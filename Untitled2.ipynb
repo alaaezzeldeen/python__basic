{
 "cells": [
  {
   "cell_type": "code",
   "execution_count": 2,
   "id": "a3aeac8b-0206-4aa4-86b5-5eff9c500d96",
   "metadata": {},
   "outputs": [
    {
     "name": "stdout",
     "output_type": "stream",
     "text": [
      "hy, python\n",
      "user\n",
      "12\n"
     ]
    }
   ],
   "source": [
    "print('hy, python')\n",
    "print(\"user\")\n",
    "print(12)\n",
    "#The print function is used when I want to display something to the user. The content must be inside parentheses and:\n",
    "\n",
    "#Enclosed in single quotes 'user' or double quotes \"user\" if it's text (a string).\n",
    "\n",
    "#If it's a number, I just write it inside the parentheses without any quotes."
   ]
  },
  {
   "cell_type": "code",
   "execution_count": 3,
   "id": "36a0128a-42bc-4861-ab13-d9d7a5137875",
   "metadata": {},
   "outputs": [],
   "source": [
    "import random\n",
    "#I use import to call any library I need. I simply write import followed by the name of the library."
   ]
  },
  {
   "cell_type": "code",
   "execution_count": 5,
   "id": "3dd4b8d9-9a47-4c22-9f8d-8f1c4d81d119",
   "metadata": {},
   "outputs": [
    {
     "data": {
      "text/plain": [
       "7"
      ]
     },
     "execution_count": 5,
     "metadata": {},
     "output_type": "execute_result"
    }
   ],
   "source": [
    "def sumation(x,y):\n",
    "    return x+y\n",
    "sumation(1,6)\n",
    "#You need to write it this way to format the space correctly. You can't skip the parentheses, and you must call it again at the end.\n",
    "\n",
    "#The word return means \"give back a specific result.\" You can replace it with print in some cases to display the result instead."
   ]
  },
  {
   "cell_type": "code",
   "execution_count": null,
   "id": "a78548c0-6443-433d-a929-76e94723256f",
   "metadata": {},
   "outputs": [],
   "source": [
    "#There are two ways to write a comment to remind myself or explain to others:\n",
    "\n",
    "#For a single line, use # at the beginning of the line.\n",
    "\n",
    "#For multiple lines, enclose the text between three single quotes ''' at the start and the end.#"
   ]
  },
  {
   "cell_type": "code",
   "execution_count": 10,
   "id": "abf4b5d6-c264-4489-9f97-f83530579a63",
   "metadata": {},
   "outputs": [
    {
     "name": "stdout",
     "output_type": "stream",
     "text": [
      "hello\n",
      "user\n"
     ]
    }
   ],
   "source": [
    "print('hello\\nuser')\n",
    "#To create a line break in a print statement, use \\n.\n"
   ]
  },
  {
   "cell_type": "code",
   "execution_count": 58,
   "id": "97582369-9888-49a8-a045-1999317333b7",
   "metadata": {},
   "outputs": [
    {
     "name": "stdout",
     "output_type": "stream",
     "text": [
      "hello,mohamedyour age is,17\n",
      "hellomohamed you age is 17\n",
      "hello mohamed your age is 17\n"
     ]
    }
   ],
   "source": [
    "#format for the output you can use any format\n",
    "name='mohamed'\n",
    "age=17\n",
    "print('hello,'+name+'your age is,'+str(age))\n",
    "print(f'hello{name} you age is {age}')\n",
    "print('hello {} your age is {}'.format(name,age))"
   ]
  },
  {
   "cell_type": "code",
   "execution_count": 12,
   "id": "01b34e94-7626-45ad-aeba-e9c76b5a3f25",
   "metadata": {},
   "outputs": [
    {
     "name": "stdin",
     "output_type": "stream",
     "text": [
      "enter your name nm,\n",
      "enter your age 2\n"
     ]
    },
    {
     "data": {
      "text/plain": [
       "'To create an input, you define a variable with a meaningful name, and then assign it the value entered by the user. Everything entered by the user is treated as a string.\\n\\nIf you want to specify the type of input (for example, to make sure the user enters a number), you can use functions like int() or float() before the input.'"
      ]
     },
     "execution_count": 12,
     "metadata": {},
     "output_type": "execute_result"
    }
   ],
   "source": [
    "name=input('enter your name')\n",
    "age=int(input('enter your age'))\n",
    "'''To create an input, you define a variable with a meaningful name, and then assign it the value entered by the user. Everything entered by the user is treated as a string.\n",
    "\n",
    "If you want to specify the type of input (for example, to make sure the user enters a number), you can use functions like int() or float() before the input.'''"
   ]
  },
  {
   "cell_type": "code",
   "execution_count": 13,
   "id": "b9f8b872-6825-4311-9b09-654a757bf638",
   "metadata": {},
   "outputs": [
    {
     "data": {
      "text/plain": [
       "int"
      ]
     },
     "execution_count": 13,
     "metadata": {},
     "output_type": "execute_result"
    }
   ],
   "source": [
    "x=45\n",
    "type(x)\n"
   ]
  },
  {
   "cell_type": "code",
   "execution_count": 14,
   "id": "e50d0ea0-316f-4731-a7ba-235c2a157f54",
   "metadata": {},
   "outputs": [
    {
     "data": {
      "text/plain": [
       "float"
      ]
     },
     "execution_count": 14,
     "metadata": {},
     "output_type": "execute_result"
    }
   ],
   "source": [
    "#To convert the input to a decimal (float), you create a new variable and assign the value of the old variable after converting it using float().\n",
    "y=float(x)\n",
    "type (y)"
   ]
  },
  {
   "cell_type": "code",
   "execution_count": 16,
   "id": "cb774a38-106d-48e9-941e-a4456692017c",
   "metadata": {},
   "outputs": [
    {
     "name": "stdout",
     "output_type": "stream",
     "text": [
      "10\n",
      "3\n",
      "2187\n"
     ]
    },
    {
     "data": {
      "text/plain": [
       "'+ Addition It adds together two values. x + y\\n- Subtraction It subtracts one value from another. x - y\\n* Multiplication It multiplies two values. x * y\\n/ Division It divides one value by another. x / y\\n% Modulus It returns the division remainder. x % y\\n// Floor Division\\nIt divides the left operand by the right \\noperand and returns the integer part of \\nthe result.\\nx//y\\n-- Exponentiation It raises the left operand to the power \\nof the right operand. x**y'"
      ]
     },
     "execution_count": 16,
     "metadata": {},
     "output_type": "execute_result"
    }
   ],
   "source": [
    "x=3\n",
    "y=7\n",
    "print(x+y)\n",
    "print(x%y)\n",
    "print(x**y)\n",
    "'''+ Addition It adds together two values. x + y\n",
    "- Subtraction It subtracts one value from another. x - y\n",
    "* Multiplication It multiplies two values. x * y\n",
    "/ Division It divides one value by another. x / y\n",
    "% Modulus It returns the division remainder. x % y\n",
    "// Floor Division\n",
    "It divides the left operand by the right \n",
    "operand and returns the integer part of \n",
    "the result.\n",
    "x//y\n",
    "-- Exponentiation It raises the left operand to the power \n",
    "of the right operand. x**y'''\n"
   ]
  },
  {
   "cell_type": "code",
   "execution_count": 20,
   "id": "7fb222e7-ab4d-45ce-b9f5-e34f41ecd006",
   "metadata": {},
   "outputs": [
    {
     "name": "stdout",
     "output_type": "stream",
     "text": [
      "2\n"
     ]
    }
   ],
   "source": [
    "x=5\n",
    "x+=7\n",
    "x-=1\n",
    "x//=5\n",
    "print(x)\n",
    "'''Operator Example Same as\n",
    "= x = 5 x = 5\n",
    "=+ x + = 3 x = x + 3\n",
    "=- x - = 3 x = x - 3\n",
    "=* x * = 3 x = x * 2\n",
    "=/ x / = 3 x = x / 3\n",
    "=// x // = 3 x = x // 3\n",
    "=% x % = 3 Y = x\n",
    "=** x **= 3 x = x ** 3\n",
    "Note (17)\n",
    "Incrementing and Decrementing Variables in Python:\n",
    "• In Python, there is no ++ operator for incrementing variables, nor is there'''"
   ]
  },
  {
   "cell_type": "code",
   "execution_count": 22,
   "id": "a5b10e34-cc25-41ca-985f-5a9339edf3dc",
   "metadata": {},
   "outputs": [
    {
     "data": {
      "text/plain": [
       "False"
      ]
     },
     "execution_count": 22,
     "metadata": {},
     "output_type": "execute_result"
    }
   ],
   "source": [
    "x=6\n",
    "y=9\n",
    "x==y#false\n",
    "x!=y#true\n",
    "x>=y#false\n",
    "'''Comparison Operators:\n",
    "The assignment operators are responsible for assigning values to the left-hand side of \n",
    "these operators. The basic operators are the first six rows in table (9). \n",
    "Table (9): Comparison operators\n",
    "Operator Example Same as\n",
    "== Equal to x == y\n",
    "=! Not equal x ! = y\n",
    "> Greater than x > y\n",
    "< Less than x < y\n",
    "=> Greater than or equal to x >= y\n",
    "=< Less than or equal to x <= y'''"
   ]
  },
  {
   "cell_type": "code",
   "execution_count": 31,
   "id": "d8b00096-afb1-4ea3-95d5-f530dd0bf265",
   "metadata": {},
   "outputs": [
    {
     "data": {
      "text/plain": [
       "False"
      ]
     },
     "execution_count": 31,
     "metadata": {},
     "output_type": "execute_result"
    }
   ],
   "source": [
    "user1='jo'\n",
    "user2='monica'\n",
    "user1=='jo' and user2 =='monica'#teue\n",
    "user1=='jo' or user2 =='yaso'#true\n",
    "not(user1=='jo' and user2 =='monica')#false\n",
    "'''and Logical and\n",
    "It returns true if both \n",
    "statements are true.\n",
    "x < 5 and x < 10\n",
    "or Logical or\n",
    "It returns true if one of the \n",
    "statements is true. x < 5 or x < 4\n",
    "not\n",
    "Logical not\n",
    "Reverse the result, it returns \n",
    "false if the result is true. )not(x < 5 and x < 10'''"
   ]
  },
  {
   "cell_type": "code",
   "execution_count": 35,
   "id": "6d46a07b-8cfb-4ce1-8325-09bf9b1d7a32",
   "metadata": {},
   "outputs": [
    {
     "name": "stdin",
     "output_type": "stream",
     "text": [
      "enter your name ahmed\n"
     ]
    },
    {
     "name": "stdout",
     "output_type": "stream",
     "text": [
      "hy,ahmed\n"
     ]
    }
   ],
   "source": [
    "user=input('enter your name')\n",
    "if user == 'ahmed':\n",
    "    print('hy,' + user)\n",
    "else:\n",
    "    print('error')\n",
    "'''if means \"if this condition is true, do this.\"\n",
    "else means \"if the condition is not true, do this.\"\n",
    "The code in else will only run if the if condition is not met.\n",
    "\n",
    "In addition to that, you must pay attention to indentation (spaces or tabs) and also include the colon : after the if and else statements. This is required to define the block of code that will run based on the condition.'''"
   ]
  },
  {
   "cell_type": "code",
   "execution_count": 36,
   "id": "2c6aa448-7dda-47b9-a861-0ce87f5de795",
   "metadata": {},
   "outputs": [
    {
     "name": "stdin",
     "output_type": "stream",
     "text": [
      "enter your  name alaa\n",
      "enter your age 2\n"
     ]
    },
    {
     "name": "stdout",
     "output_type": "stream",
     "text": [
      "no\n"
     ]
    }
   ],
   "source": [
    "name=input('enter your  name')\n",
    "age=int(input('enter your age'))\n",
    "if name=='ABC':\n",
    "    print('ok')\n",
    "elif age == 12:\n",
    "    print('ok')\n",
    "else:\n",
    "    print('no')\n",
    "'''if means \"if this condition is true, do this.\"\n",
    "else means \"if the condition is not true, do this.\"\n",
    "The code in else will only run if the if condition is not met.\n",
    "\n",
    "In addition to that, you must pay attention to indentation (spaces or tabs) and also include the colon : after the if and else statements. This is required to define the block of code that will run based on the condition.'''"
   ]
  },
  {
   "cell_type": "code",
   "execution_count": 38,
   "id": "c50406fb-e6f9-45a6-9727-972897dfe8aa",
   "metadata": {},
   "outputs": [
    {
     "name": "stdout",
     "output_type": "stream",
     "text": [
      "1\n",
      "2\n",
      "3\n",
      "4\n",
      "5\n",
      "6\n",
      "7\n",
      "8\n",
      "9\n",
      "10\n"
     ]
    }
   ],
   "source": [
    "for i in range (1,11):\n",
    "    print(i)\n",
    "'''In this program, we use the range() function to generate a sequence of numbers from \n",
    "1 to 100, and then we iterate through this sequence using a for loop. Inside the loop, we \n",
    "print each number. This will output numbers from 1 to 100, one per line.'''"
   ]
  },
  {
   "cell_type": "code",
   "execution_count": null,
   "id": "bad73082-8be6-4012-bd4a-d31150a8846c",
   "metadata": {},
   "outputs": [],
   "source": [
    "names=['alaa','youssef','aya']\n",
    "for i in names:\n",
    "    print (i)\n",
    "#In this example, the for loop iterates through the fruits list and prints each item."
   ]
  },
  {
   "cell_type": "code",
   "execution_count": null,
   "id": "bfc6510a-7fcd-4075-a15a-58c620990742",
   "metadata": {},
   "outputs": [],
   "source": []
  },
  {
   "cell_type": "code",
   "execution_count": null,
   "id": "943ca6dc-7251-4faf-abdf-8c8ef1297335",
   "metadata": {},
   "outputs": [],
   "source": [
    "count = 0\n",
    "\n",
    "while count < 5:\n",
    "    print(count)\n",
    "    count += 1\n",
    "'''Explanation:\n",
    "\n",
    "The while loop keeps running as long as the condition count < 5 is true.\n",
    "\n",
    "In each loop, it prints the value of count and then increases count by 1 using count += 1.\n",
    "\n",
    "Once count reaches 5, the condition count < 5 is no longer true, so the loop stops.'''"
   ]
  },
  {
   "cell_type": "code",
   "execution_count": 45,
   "id": "7af5cdfd-afcc-4737-8c0f-f43c4094b7ba",
   "metadata": {},
   "outputs": [
    {
     "name": "stdout",
     "output_type": "stream",
     "text": [
      "[1, 3, 4, 5, 6, 12, 'A', 'B', 'c']\n"
     ]
    }
   ],
   "source": [
    "#list [] \n",
    "age=[1,2,3,4,5,6]#format of list[]\n",
    "age.append(12)#if you need add a new item\n",
    "age.insert(2,9)#\"If you want to add an item and specify its position.\"\n",
    "age.remove(9)#if you need remove item by his name\n",
    "age.pop(1)#if you need remove item by his index\n",
    "#if you need mearge between  two lists you will use (extend)\n",
    "names=['A','B','c']\n",
    "age.extend(names)\n",
    "print(age)"
   ]
  },
  {
   "cell_type": "code",
   "execution_count": null,
   "id": "94845673-864c-469d-a338-2e4622b0ec3d",
   "metadata": {},
   "outputs": [],
   "source": [
    "#tuple() you can not edite it\n",
    "name=('asd','koko','hady')"
   ]
  },
  {
   "cell_type": "code",
   "execution_count": 52,
   "id": "cbd9dd06-c8ab-4a56-8c59-ec93118b03c7",
   "metadata": {},
   "outputs": [
    {
     "name": "stdout",
     "output_type": "stream",
     "text": [
      "{'alaa': 12, 'ahmed': 11, 'mohamed': 10}\n",
      "{'alaa': 12, 'ahmed': 11}\n"
     ]
    }
   ],
   "source": [
    "#dic{} its content a key and value like:\n",
    "data={'alaa':12,'ahmed':11}\n",
    "#if you need add key and value\n",
    "data['mohamed']=10\n",
    "#if you need remove youn will use (del)\n",
    "del data['mohamed']\n",
    "print(data)"
   ]
  },
  {
   "cell_type": "code",
   "execution_count": null,
   "id": "7d4bc2dd-adad-4e76-846c-3a6645061103",
   "metadata": {},
   "outputs": [],
   "source": []
  }
 ],
 "metadata": {
  "kernelspec": {
   "display_name": "Python 3 (ipykernel)",
   "language": "python",
   "name": "python3"
  },
  "language_info": {
   "codemirror_mode": {
    "name": "ipython",
    "version": 3
   },
   "file_extension": ".py",
   "mimetype": "text/x-python",
   "name": "python",
   "nbconvert_exporter": "python",
   "pygments_lexer": "ipython3",
   "version": "3.12.7"
  }
 },
 "nbformat": 4,
 "nbformat_minor": 5
}
